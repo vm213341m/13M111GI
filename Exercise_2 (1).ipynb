{
 "cells": [
  {
   "cell_type": "code",
   "execution_count": 4,
   "id": "6d3d3384-e800-4d13-9d94-e7cfe3d444a2",
   "metadata": {},
   "outputs": [
    {
     "name": "stdout",
     "output_type": "stream",
     "text": [
      "Collecting pysam\n",
      "  Downloading pysam-0.18.0-cp39-cp39-manylinux_2_12_x86_64.manylinux2010_x86_64.whl (15.6 MB)\n",
      "\u001b[K     |████████████████████████████████| 15.6 MB 29.3 MB/s eta 0:00:01\n",
      "\u001b[?25hInstalling collected packages: pysam\n",
      "Successfully installed pysam-0.18.0\n"
     ]
    }
   ],
   "source": [
    "!pip3 install pysam"
   ]
  },
  {
   "cell_type": "code",
   "execution_count": 34,
   "id": "30c191c3-1f70-4ce4-b9f3-c0253a3d95f5",
   "metadata": {},
   "outputs": [
    {
     "name": "stderr",
     "output_type": "stream",
     "text": [
      "[E::idx_find_and_load] Could not retrieve index file for '/sbgenomics/project-files/merged-tumor.bam'\n"
     ]
    },
    {
     "name": "stdout",
     "output_type": "stream",
     "text": [
      "Total number of unmapped reads: 0\n",
      "Total number of reads: 2921629\n",
      "Total number of zero mapping quality reads: 126628\n",
      "Average mapping qulaity for all reads: 55.91379158681681\n",
      "Average mapping quality if reads with 0 mapp quality are filtered out: 58.446975510921106\n"
     ]
    }
   ],
   "source": [
    "import pysam\n",
    "sam_file = pysam.AlignmentFile(\"/sbgenomics/project-files/merged-tumor.bam\")\n",
    "num_reads = 0\n",
    "sum_unmapped = 0\n",
    "sum_zero_quality = 0\n",
    "sum_mapping_quality = 0\n",
    "for read in sam_file:\n",
    "    sum_unmapped = 1 if read.flag & 0x0100 else 0\n",
    "    num_reads += 1\n",
    "    sum_zero_quality += 1 if read.mapping_quality == 0 else 0\n",
    "    sum_mapping_quality += read.mapping_quality\n",
    "    \n",
    "print(f\"Total number of unmapped reads: {sum_unmapped}\")\n",
    "print(f\"Total number of reads: {num_reads}\")\n",
    "print(f\"Total number of zero mapping quality reads: {sum_zero_quality}\")\n",
    "print(f\"Average mapping qulaity for all reads: {sum_mapping_quality / num_reads}\")\n",
    "print(f\"Average mapping quality if reads with 0 mapp quality are filtered out: \" \\\n",
    "      f\"{sum_mapping_quality / (num_reads - sum_zero_quality)}\")"
   ]
  },
  {
   "cell_type": "code",
   "execution_count": null,
   "id": "37381eb1-a0d9-4b2e-a249-382f4abd9f6c",
   "metadata": {},
   "outputs": [],
   "source": []
  }
 ],
 "metadata": {
  "kernelspec": {
   "display_name": "Python 3 (ipykernel)",
   "language": "python",
   "name": "python3"
  },
  "language_info": {
   "codemirror_mode": {
    "name": "ipython",
    "version": 3
   },
   "file_extension": ".py",
   "mimetype": "text/x-python",
   "name": "python",
   "nbconvert_exporter": "python",
   "pygments_lexer": "ipython3",
   "version": "3.9.6"
  }
 },
 "nbformat": 4,
 "nbformat_minor": 5
}
